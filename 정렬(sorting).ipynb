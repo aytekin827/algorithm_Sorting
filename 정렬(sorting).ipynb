{
  "nbformat": 4,
  "nbformat_minor": 0,
  "metadata": {
    "colab": {
      "name": "정렬(sorting).ipynb",
      "provenance": [],
      "collapsed_sections": [],
      "toc_visible": true,
      "authorship_tag": "ABX9TyM/9MLGCPSDUC7uaeEFNRJT",
      "include_colab_link": true
    },
    "kernelspec": {
      "name": "python3",
      "display_name": "Python 3"
    },
    "language_info": {
      "name": "python"
    }
  },
  "cells": [
    {
      "cell_type": "markdown",
      "metadata": {
        "id": "view-in-github",
        "colab_type": "text"
      },
      "source": [
        "<a href=\"https://colab.research.google.com/github/aytekin827/sorting/blob/main/%EC%A0%95%EB%A0%AC(sorting).ipynb\" target=\"_parent\"><img src=\"https://colab.research.google.com/assets/colab-badge.svg\" alt=\"Open In Colab\"/></a>"
      ]
    },
    {
      "cell_type": "markdown",
      "metadata": {
        "id": "e_9wk63DnxVP"
      },
      "source": [
        "### 시간체크 & 테스트용 리스트 생성\n"
      ]
    },
    {
      "cell_type": "code",
      "metadata": {
        "id": "2L-2S0Dwfdaf"
      },
      "source": [
        "import time\n",
        "\n",
        "from functools import wraps\n",
        "\n",
        "def check_time(function):\n",
        "\t@wraps(function)\n",
        "\tdef measure(*args, **kwargs):\n",
        "\t\tstart_time = time.time()\n",
        "\n",
        "\t\tresult = function(*args, **kwargs)\n",
        "\n",
        "\t\tend_time = time.time()\n",
        "\n",
        "\t\tprint(f\"@check_time: {function.__name__} took {end_time - start_time}\")\n",
        "\t\treturn result\n",
        "\n",
        "\treturn measure"
      ],
      "execution_count": null,
      "outputs": []
    },
    {
      "cell_type": "code",
      "metadata": {
        "id": "JlrCTxS6oY-k"
      },
      "source": [
        "import random\n",
        "test = [num for num in range(10)]\n",
        "random.shuffle(test)"
      ],
      "execution_count": null,
      "outputs": []
    },
    {
      "cell_type": "markdown",
      "metadata": {
        "id": "kHk1ypdnoMXJ"
      },
      "source": [
        "## Bubble Sort(거품정렬)"
      ]
    },
    {
      "cell_type": "code",
      "metadata": {
        "id": "LdqiqU9boP_N"
      },
      "source": [
        "# bubble sort\n",
        "@check_time\n",
        "def bubble_sort(li):\n",
        "    length = len(li) - 1\n",
        "    for i in range(length):\n",
        "        for j in range(length-i):\n",
        "            if li[j] > li[j+1]:\n",
        "                li[j], li[j+1] = li[j+1], li[j]"
      ],
      "execution_count": null,
      "outputs": []
    },
    {
      "cell_type": "code",
      "metadata": {
        "id": "eDLnTnJtob2f"
      },
      "source": [
        "test = [num for num in range(10)]\n",
        "random.shuffle(test)\n",
        "print(test,'\\n')\n",
        "bubble_sort(test)\n",
        "print()\n",
        "test"
      ],
      "execution_count": null,
      "outputs": []
    },
    {
      "cell_type": "markdown",
      "metadata": {
        "id": "LkEinlnYzwnq"
      },
      "source": [
        "## Selection sorting (선택정렬)\n",
        "\n"
      ]
    },
    {
      "cell_type": "code",
      "metadata": {
        "id": "vDdXnEk10HPv"
      },
      "source": [
        "@check_time\n",
        "def selectionSort(x):\n",
        "    length = len(x)\n",
        "    for i in range(length-1):\n",
        "        indexMin = i\n",
        "        for j in range(i+1, length):\n",
        "            if x[indexMin] > x[j]:\n",
        "                indexMin = j\n",
        "        x[i], x[indexMin] = x[indexMin], x[i]\n",
        "    return x"
      ],
      "execution_count": null,
      "outputs": []
    },
    {
      "cell_type": "code",
      "metadata": {
        "colab": {
          "base_uri": "https://localhost:8080/"
        },
        "id": "J13bwBnj0hp1",
        "outputId": "e7928886-197c-4ef6-83e7-4bfb1a3464e0"
      },
      "source": [
        "test = [num for num in range(10)]\n",
        "random.shuffle(test)\n",
        "print(test)\n",
        "selectionSort(test)\n",
        "print()\n",
        "test"
      ],
      "execution_count": null,
      "outputs": [
        {
          "output_type": "stream",
          "name": "stdout",
          "text": [
            "[3, 5, 6, 2, 7, 8, 9, 0, 1, 4]\n",
            "\n"
          ]
        },
        {
          "output_type": "execute_result",
          "data": {
            "text/plain": [
              "[0, 1, 2, 3, 4, 5, 6, 7, 8, 9]"
            ]
          },
          "metadata": {},
          "execution_count": 149
        }
      ]
    },
    {
      "cell_type": "markdown",
      "metadata": {
        "id": "kvhwCZ3ZyEFk"
      },
      "source": [
        "## insert sorting (삽입정렬)\n",
        " 간단하지만 **비효율적**인  \n",
        " 시간복잡도 **O(N^2)**  \n",
        " 앞에서부터 하나씩 빼서 비교하면서 알맞은 자리에 삽입하는 알고리즘  \n",
        " **거의 정렬이 되어있는 상태**라면 퀵정렬보다 더 빨리 정렬해준다.  \n"
      ]
    },
    {
      "cell_type": "code",
      "metadata": {
        "id": "ZcmKpQ-AyGQC"
      },
      "source": [
        "# 삽입정렬(위키피디아)\n",
        "# 간단하지만 비효율적인\n",
        "# 앞에서부터 하나씩 빼서 비교하면서 알맞은 자리에 삽입하는 알고리즘\n",
        "# 거의 정렬이 되어있는 상태라면 퀵정렬보다 더 빨리 정렬해준다.\n",
        "@check_time\n",
        "def insert_sort1(x):\n",
        "    for i in range(1, len(x)):\n",
        "        j = i - 1\n",
        "        key = x[i]\n",
        "        while x[j] > key and j >= 0:\n",
        "            x[j+1] = x[j]\n",
        "            j = j - 1\n",
        "            x[j+1] = key\n",
        "    return x"
      ],
      "execution_count": null,
      "outputs": []
    },
    {
      "cell_type": "code",
      "metadata": {
        "id": "9wP3JOG1qoim"
      },
      "source": [
        "# 내 생각이 이 코드가 더 쉽고 직관적인것 같다.\n",
        "# 위키피디아에서는 왜 저런 코드를 올려놓았을까?\n",
        "@check_time\n",
        "def insert_sort2(li):\n",
        "    for i in range(1,len(li)): # i+1로 사용하면 되고\n",
        "        for j in range(i,0,-1):\n",
        "            if li[j]<li[j-1]:\n",
        "                li[j],li[j-1] = li[j-1],li[j]\n",
        "    return li "
      ],
      "execution_count": null,
      "outputs": []
    },
    {
      "cell_type": "code",
      "metadata": {
        "id": "2NNmHOl3zjBH"
      },
      "source": [
        "@check_time\n",
        "def insert_sort3(li):\n",
        "    for i in range(1,len(li)): # i+1로 사용하면 되고\n",
        "        for j in range(i,0,-1):\n",
        "            if li[j]<li[j-1]:\n",
        "                li[j],li[j-1] = li[j-1],li[j]\n",
        "            else:\n",
        "                break\n",
        "    return li "
      ],
      "execution_count": null,
      "outputs": []
    },
    {
      "cell_type": "markdown",
      "metadata": {
        "id": "9r2GmA23ENiF"
      },
      "source": [
        "# 정렬별 따른 시간비교\n"
      ]
    },
    {
      "cell_type": "code",
      "metadata": {
        "colab": {
          "base_uri": "https://localhost:8080/"
        },
        "id": "QA6FGyAi0HLX",
        "outputId": "2e1ebf89-11be-41a8-8dc6-607a9504e8f2"
      },
      "source": [
        "import random\n",
        "import copy\n",
        "test = [num for num in range(20)]\n",
        "random.shuffle(test)\n",
        "print(test)\n",
        "print()\n",
        "\n",
        "test1 = copy.deepcopy(test)\n",
        "print('insert sorting - 위키피디아 코딩')\n",
        "insert_sort1(test1)\n",
        "print(test1)\n",
        "print()\n",
        "\n",
        "test2 = copy.deepcopy(test)\n",
        "print('insert sorting - 내가 만든 코딩 swap을 이용한다')\n",
        "insert_sort2(test2)\n",
        "print(test2)\n",
        "print()\n",
        "\n",
        "test3 = copy.deepcopy(test)\n",
        "print('insert sorting - 내가 만든 코딩 swap을 이용한다 ,break까지 추가')\n",
        "insert_sort3(test3)\n",
        "print(test3)\n",
        "print()\n",
        "\n",
        "test4 = copy.deepcopy(test)\n",
        "print('bubbles sort')\n",
        "bubble_sort(test4)\n",
        "print(test4)\n",
        "print()\n",
        "\n",
        "test5 = copy.deepcopy(test)\n",
        "print('selection sort')\n",
        "selectionSort(test5)\n",
        "print(test5)\n",
        "print()\n",
        "\n",
        "# 위키피디아 코드가 제일 시간이 짧다.\n",
        "# 왜일까? 이유가 뭐지??"
      ],
      "execution_count": null,
      "outputs": [
        {
          "output_type": "stream",
          "name": "stdout",
          "text": [
            "[8, 3, 18, 11, 19, 17, 12, 9, 14, 5, 13, 15, 16, 6, 10, 0, 7, 2, 1, 4]\n",
            "\n",
            "insert sorting - 위키피디아 코딩\n",
            "@check_time: insert_sort1 took 6.437301635742188e-05\n",
            "[0, 1, 2, 3, 4, 5, 6, 7, 8, 9, 10, 11, 12, 13, 14, 15, 16, 17, 18, 19]\n",
            "\n",
            "insert sorting - 내가 만든 코딩 swap을 이용한다\n",
            "@check_time: insert_sort2 took 0.0011110305786132812\n",
            "[0, 1, 2, 3, 4, 5, 6, 7, 8, 9, 10, 11, 12, 13, 14, 15, 16, 17, 18, 19]\n",
            "\n",
            "insert sorting - 내가 만든 코딩 swap을 이용한다 ,break까지 추가\n",
            "@check_time: insert_sort3 took 7.653236389160156e-05\n",
            "[0, 1, 2, 3, 4, 5, 6, 7, 8, 9, 10, 11, 12, 13, 14, 15, 16, 17, 18, 19]\n",
            "\n",
            "bubbles sort\n",
            "@check_time: bubble_sort took 5.078315734863281e-05\n",
            "[0, 1, 2, 3, 4, 5, 6, 7, 8, 9, 10, 11, 12, 13, 14, 15, 16, 17, 18, 19]\n",
            "\n",
            "selection sort\n",
            "@check_time: selectionSort took 2.7418136596679688e-05\n",
            "[0, 1, 2, 3, 4, 5, 6, 7, 8, 9, 10, 11, 12, 13, 14, 15, 16, 17, 18, 19]\n",
            "\n"
          ]
        }
      ]
    },
    {
      "cell_type": "markdown",
      "metadata": {
        "id": "80fzYbTAn5nL"
      },
      "source": [
        "# 퀵소트(quick sort) vs 병합정렬(merge sort)"
      ]
    },
    {
      "cell_type": "markdown",
      "metadata": {
        "id": "C6AwGWsSnzul"
      },
      "source": [
        "### 분할정복(divide and conquer)"
      ]
    },
    {
      "cell_type": "code",
      "metadata": {
        "id": "yqQUZvTOe0Ks"
      },
      "source": [
        "# divide and conquer(분할정복)\n",
        "\"\"\"\n",
        "병렬적 문제해결 : 하나의 큰 문제를 여러개의 작은 문제로 나누어서 해결한다.\n",
        "서브문제(subproblem)으로 분할하고(divide)\n",
        "서브문제를 정복함(conquer) or base case로 간다.\n",
        "이후 병합한다.(merge)\n",
        "\"\"\"\n",
        "\n",
        "# 퀵정렬과 병합정렬\n",
        "\"\"\"\n",
        "퀵정렬 vs 병합정렬\n",
        "피벗\n",
        "중복X     안정정렬, 중복되도 괜찮\n",
        "불안정\n",
        "nlogn     nlogn\n",
        "n^2       nlogn \n",
        "\"\"\""
      ],
      "execution_count": null,
      "outputs": []
    },
    {
      "cell_type": "code",
      "metadata": {
        "colab": {
          "base_uri": "https://localhost:8080/"
        },
        "id": "DRvN0aU3fXLq",
        "outputId": "b164d98a-4bd9-4281-f3ab-99e63a7d773d"
      },
      "source": [
        "# 재귀 : 1부터 10까지의 합\n",
        "@check_time\n",
        "def func(num):\n",
        "  if num < 1:\n",
        "    return 0\n",
        "  else:\n",
        "    return num + func(num-1)\n",
        "\n",
        "func(10)"
      ],
      "execution_count": null,
      "outputs": [
        {
          "output_type": "stream",
          "name": "stdout",
          "text": [
            "@check_time: func took 1.1920928955078125e-06\n",
            "@check_time: func took 9.1552734375e-05\n",
            "@check_time: func took 0.00012683868408203125\n",
            "@check_time: func took 0.0001595020294189453\n",
            "@check_time: func took 0.0001900196075439453\n",
            "@check_time: func took 0.0002346038818359375\n",
            "@check_time: func took 0.00026679039001464844\n",
            "@check_time: func took 0.00029587745666503906\n",
            "@check_time: func took 0.00032520294189453125\n",
            "@check_time: func took 0.00034618377685546875\n",
            "@check_time: func took 0.00036716461181640625\n"
          ]
        },
        {
          "output_type": "execute_result",
          "data": {
            "text/plain": [
              "55"
            ]
          },
          "metadata": {},
          "execution_count": 29
        }
      ]
    },
    {
      "cell_type": "code",
      "metadata": {
        "colab": {
          "base_uri": "https://localhost:8080/"
        },
        "id": "8KeLzyyhfYcy",
        "outputId": "5f1fab4a-052d-4f7f-c2ac-fd040b7f7860"
      },
      "source": [
        "# 분할정복 : 1부터 10까지의 합\n",
        "@check_time\n",
        "def func(num):\n",
        "  if num == 1:\n",
        "      return 1\n",
        "  if num % 2 == 1:\n",
        "      return func(num - 1) + num\n",
        "  else:\n",
        "      return func(num / 2) * 2 + (num / 2) * (num / 2) \n",
        "\n",
        "func(10)"
      ],
      "execution_count": null,
      "outputs": [
        {
          "output_type": "stream",
          "name": "stdout",
          "text": [
            "@check_time: func took 7.152557373046875e-07\n",
            "@check_time: func took 0.0015339851379394531\n",
            "@check_time: func took 0.0019583702087402344\n",
            "@check_time: func took 0.0022802352905273438\n",
            "@check_time: func took 0.004721164703369141\n"
          ]
        },
        {
          "output_type": "execute_result",
          "data": {
            "text/plain": [
              "55.0"
            ]
          },
          "metadata": {},
          "execution_count": 28
        }
      ]
    },
    {
      "cell_type": "markdown",
      "metadata": {
        "id": "81GOOfHeoDAM"
      },
      "source": [
        "### 퀵소트(quick sort)\n",
        "\n",
        "중복된 값이 있을경우 중복된 값들의 순서가 바뀔수 있는 **불안정정렬**에 속한다.\n",
        "\n",
        "**시간복잡도 O(n log n)**  \n",
        "최악의 경우  O(n2)의 시간복잡도를 가지지만  \n",
        "일반적인 경우 다른 O(n log n)정렬 알고리즘보다 더 빠른 정렬속도를 보여준다.\n",
        "\n",
        "\n"
      ]
    },
    {
      "cell_type": "code",
      "metadata": {
        "id": "T_Yieez0pztS"
      },
      "source": [
        "# 퀵소트 파이썬 코드 case - 1 : 전체코드\n",
        "# 재귀함수 O\n",
        "# 리스트 하나만을 사용해서 정렬한다.\n",
        "\n",
        "def quick_sort(node, first, last):\n",
        "  def partition(first,last):\n",
        "    pivot = node[last]\n",
        "    left = first\n",
        "    print(pivot, first,last)    # 확인용\n",
        "    for right in range(first, last):\n",
        "      if node[right] < pivot:\n",
        "        node[left], node[right] = node[right], node[left]\n",
        "        left += 1\n",
        "        print(node)\n",
        "    node[left], node[last] = node[last], node[left]\n",
        "    print(node)\n",
        "    return left\n",
        "\n",
        "  # 첫번째 노드가 마지막 노드보다 작은 경우, 재귀진행\n",
        "  if first < last:\n",
        "    pivot = partition(first, last)\n",
        "    quick_sort(node, first, pivot - 1)\n",
        "    quick_sort(node, pivot + 1, last)"
      ],
      "execution_count": null,
      "outputs": []
    },
    {
      "cell_type": "code",
      "metadata": {
        "id": "WuT3EN30hoDx"
      },
      "source": [
        "# 퀵소트 파이썬 코드 case - 2 : 전체코드\n",
        "# 재귀함수 X\n",
        "# 리스트를 새롭게 만들기때문에 메모리를 조금 더 사용하게 된다\n",
        "# 파이썬의 장점을 살린 코드이며 직관적이고 기억하기 쉬움.\n",
        "\n",
        "def quick_sort(ARRAY):\n",
        "    ARRAY_LENGTH = len(ARRAY)\n",
        "\n",
        "    if ( ARRAY_LENGTH <= 1):\n",
        "        return ARRAY\n",
        "    else:\n",
        "        PIVOT = ARRAY[0]  # 무작위로 기준점인 pivot 을 설정한다.\n",
        "        GREATER = [ element for element in ARRAY[1:] if element > PIVOT ]\n",
        "        LESSER = [ element for element in ARRAY[1:] if element <= PIVOT ]\n",
        "        print(ARRAY)\n",
        "        print(LESSER,PIVOT,GREATER)\n",
        "        print()\n",
        "        return quick_sort(LESSER) + [PIVOT] + quick_sort(GREATER)\n",
        "    "
      ],
      "execution_count": null,
      "outputs": []
    },
    {
      "cell_type": "code",
      "metadata": {
        "id": "Rm4lfntfXKGV"
      },
      "source": [
        "import random\n",
        "import copy\n",
        "test = [num for num in range(20)]\n",
        "random.shuffle(test)\n",
        "print(test)\n",
        "print()\n",
        "quick_sort(test)"
      ],
      "execution_count": null,
      "outputs": []
    },
    {
      "cell_type": "markdown",
      "metadata": {
        "id": "Pm6hzkukoHdg"
      },
      "source": [
        "### 병합정렬(merge sort)"
      ]
    },
    {
      "cell_type": "code",
      "metadata": {
        "id": "pM_k41yEhjFq"
      },
      "source": [
        "# MergeSort 소스코드\n",
        "\n",
        "def mergeSort(arr): \n",
        "    if len(arr) >1: \n",
        "        mid = len(arr)//2       # 1)배열의 중간을 찾는다.\n",
        "\n",
        "        L = arr[:mid]           # 중간이 정해지면, 전체배열을 두 부분으로 나눈다. L은 나눠진 왼쪽 부분\n",
        "        R = arr[mid:]           # R은 나눠진 오른쪽 부분\n",
        "\n",
        "        mergeSort(L)            # 2)왼쪽 부분에 대해 정렬 함수 호출을 통해 정렬(재귀적으로 값을 분할정복)\n",
        "        \n",
        "        mergeSort(R)            # 3)오른쪽 부분에 대해 정렬함수 호출을 통해 정렬(재귀적으로 값을 분할정복)\n",
        "        \n",
        "        i = j = k = 0\n",
        "          \n",
        "        # Merge 정렬 과정(배열의 인덱스를 참조하여 비교->정렬->교환한다는 것을 알아야 한다.)\n",
        "        while i < len(L) and j < len(R):  \n",
        "            if L[i] < R[j]:     # 오른쪽값 > 왼쪽값\n",
        "                arr[k] = L[i]   # 왼쪽값을 결과를 위한 값에 저장한다.\n",
        "                i+= 1           # 왼쪽배열값의 인덱스를 +1 증가시키고, 결과를 위한 배열에 저장한다.\n",
        "            else:               # 왼쪽값 > 오른쪽값\n",
        "                arr[k] = R[j]   # 오른쪽값을 결과를 위한 값에 저장한다.\n",
        "                j+= 1           # 오른쪽배열값의 인덱스를 +1 증가시키고, 결과를 위한 배열에 저장한다.\n",
        "            k+= 1\n",
        "\n",
        "  \n",
        "        \n",
        "        #왼쪽부분과 오른쪽부분에 대해 중간정렬결과를 확인해볼 수 있다.\n",
        "        print(L)\n",
        "        print(R)\n",
        "        print()\n",
        "\n",
        "        # 왼쪽에 남은 요소가 있는지 확인\n",
        "        while i < len(L):     \n",
        "            arr[k] = L[i]       # 정렬된 왼쪽값을 결과를 위한 배열에 저장\n",
        "            i+= 1\n",
        "            k+= 1\n",
        "        \n",
        "        # 오른쪽에 남은 요소가 있는지 확인\n",
        "        while j < len(R):     \n",
        "            arr[k] = R[j]       # 정렬된 오른쪽값을 결과를 위한 배열에 저장 \n",
        "            j+= 1\n",
        "            k+= 1\n",
        "    return arr"
      ],
      "execution_count": null,
      "outputs": []
    },
    {
      "cell_type": "code",
      "metadata": {
        "colab": {
          "base_uri": "https://localhost:8080/"
        },
        "id": "5ketueg6ouLq",
        "outputId": "8298e410-ba79-45e7-c989-b2c8cf6a2c85"
      },
      "source": [
        "import random\n",
        "test = [num for num in range(4)]\n",
        "random.shuffle(test)\n",
        "print(test)\n",
        "mergeSort(test)"
      ],
      "execution_count": null,
      "outputs": [
        {
          "output_type": "stream",
          "name": "stdout",
          "text": [
            "[1, 3, 0, 2]\n",
            "[1]\n",
            "[3]\n",
            "\n",
            "[0]\n",
            "[2]\n",
            "\n",
            "[1, 3]\n",
            "[0, 2]\n",
            "\n"
          ]
        },
        {
          "output_type": "execute_result",
          "data": {
            "text/plain": [
              "[0, 1, 2, 3]"
            ]
          },
          "metadata": {},
          "execution_count": 19
        }
      ]
    },
    {
      "cell_type": "code",
      "metadata": {
        "id": "3Qu8GKzXoYOl"
      },
      "source": [
        "# in-place sort\n",
        "\n",
        "def merge_sort(arr):\n",
        "    def sort(low, high):\n",
        "        if high - low < 2:\n",
        "            return\n",
        "        mid = (low + high) // 2\n",
        "        sort(low, mid)\n",
        "        sort(mid, high)\n",
        "        merge(low, mid, high)\n",
        "\n",
        "    def merge(low, mid, high):\n",
        "        temp = []\n",
        "        l, h = low, mid\n",
        "\n",
        "        while l < mid and h < high:\n",
        "            if arr[l] < arr[h]:\n",
        "                temp.append(arr[l])\n",
        "                l += 1\n",
        "            else:\n",
        "                temp.append(arr[h])\n",
        "                h += 1\n",
        "\n",
        "        while l < mid:\n",
        "            temp.append(arr[l])\n",
        "            l += 1\n",
        "        while h < high:\n",
        "            temp.append(arr[h])\n",
        "            h += 1\n",
        "\n",
        "        for i in range(low, high):\n",
        "            arr[i] = temp[i - low]\n",
        "\n",
        "    return sort(0, len(arr))"
      ],
      "execution_count": null,
      "outputs": []
    },
    {
      "cell_type": "code",
      "metadata": {
        "id": "PdWsn5ww2uqd"
      },
      "source": [
        "# 퀵\n",
        "\n",
        "def quicksort(li):\n",
        "    length = len(li)\n",
        "    if length <= 1:\n",
        "        return li\n",
        "\n",
        "    else:\n",
        "        pivot = li[0]\n",
        "        bigger = [ele for ele in li[1:] if ele > pivot]\n",
        "        smaller = [ele for ele in li[1:] if ele <= pivot]\n",
        "        return quicksort(smaller) + [pivot] + quicksort(bigger)"
      ],
      "execution_count": null,
      "outputs": []
    },
    {
      "cell_type": "code",
      "metadata": {
        "id": "gVyrWw_Y3WZi"
      },
      "source": [
        "def quick_sort(li):\n",
        "    lenght = len(li)\n",
        "    if length <= 1:\n",
        "        return li\n",
        "    else:\n",
        "        pivot = li[-0]\n",
        "        bigger = [ele for ele in li[:-1] if ele > pivot]\n",
        "        smaller = [ele for ele in li[:-1] if ele < pivot]\n",
        "        return quick_sort(smaller) + [pivot] + quick_sort(smaller)"
      ],
      "execution_count": null,
      "outputs": []
    }
  ]
}